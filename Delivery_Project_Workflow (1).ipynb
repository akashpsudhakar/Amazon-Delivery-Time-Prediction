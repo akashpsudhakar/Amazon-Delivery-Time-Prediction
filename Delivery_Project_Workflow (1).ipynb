{
 "cells": [
  {
   "cell_type": "markdown",
   "id": "df9a9c29",
   "metadata": {},
   "source": [
    "# Delivery Time Prediction - Project Workflow"
   ]
  },
  {
   "cell_type": "markdown",
   "id": "fc614650",
   "metadata": {},
   "source": [
    "\n",
    "This notebook walks through the entire pipeline of the Delivery Time Prediction project, from data cleaning to deploying a prediction system using Streamlit.\n"
   ]
  },
  {
   "cell_type": "markdown",
   "id": "388d3173",
   "metadata": {},
   "source": [
    "## 1. Data Cleaning and Preprocessing"
   ]
  },
  {
   "cell_type": "code",
   "execution_count": null,
   "id": "8025208e",
   "metadata": {},
   "outputs": [],
   "source": [
    "\n",
    "import pandas as pd\n",
    "import numpy as np\n",
    "\n",
    "# Load dataset\n",
    "df = pd.read_csv(\"data/raw_dataset.csv\")\n",
    "\n",
    "# Basic cleaning: drop missing values, parse dates\n",
    "df.dropna(inplace=True)\n",
    "df['Order_Date'] = pd.to_datetime(df['Order_Date'])\n",
    "df['Order_Time'] = pd.to_datetime(df['Order_Time']).dt.time\n",
    "df['Pickup_Time'] = pd.to_datetime(df['Pickup_Time']).dt.time\n",
    "\n",
    "# Feature engineering: compute distance, time deltas\n",
    "# Save processed data\n",
    "df.to_csv(\"data/processed_data.csv\", index=False)\n",
    "df.head()\n"
   ]
  },
  {
   "cell_type": "markdown",
   "id": "ff435b44",
   "metadata": {},
   "source": [
    "## 2. Model Training and Tracking with MLflow"
   ]
  },
  {
   "cell_type": "code",
   "execution_count": null,
   "id": "41f63733",
   "metadata": {},
   "outputs": [],
   "source": [
    "\n",
    "from sklearn.model_selection import train_test_split\n",
    "from sklearn.ensemble import RandomForestRegressor\n",
    "from sklearn.metrics import mean_squared_error\n",
    "import mlflow\n",
    "import mlflow.sklearn\n",
    "\n",
    "# Select features and target\n",
    "X = df[['Agent_Age', 'Agent_Rating']]  # add more relevant features\n",
    "y = df['Delivery_Time']\n",
    "\n",
    "X_train, X_test, y_train, y_test = train_test_split(X, y, test_size=0.2)\n",
    "\n",
    "# Start MLflow experiment\n",
    "mlflow.start_run()\n",
    "\n",
    "model = RandomForestRegressor()\n",
    "model.fit(X_train, y_train)\n",
    "preds = model.predict(X_test)\n",
    "\n",
    "rmse = np.sqrt(mean_squared_error(y_test, preds))\n",
    "mlflow.log_metric(\"rmse\", rmse)\n",
    "mlflow.sklearn.log_model(model, \"rf_model\")\n",
    "\n",
    "mlflow.end_run()\n",
    "print(f\"Model trained. RMSE: {rmse:.2f}\")\n"
   ]
  },
  {
   "cell_type": "markdown",
   "id": "bda9a0c3",
   "metadata": {},
   "source": [
    "## 3. Exploratory Data Analysis - Key Insights"
   ]
  },
  {
   "cell_type": "code",
   "execution_count": null,
   "id": "f4792463",
   "metadata": {},
   "outputs": [],
   "source": [
    "\n",
    "import matplotlib.pyplot as plt\n",
    "import seaborn as sns\n",
    "\n",
    "# Delivery Time Distribution\n",
    "sns.histplot(df['Delivery_Time'], kde=True)\n",
    "plt.title(\"Delivery Time Distribution\")\n",
    "plt.show()\n",
    "\n",
    "# Relationship between rating and delivery time\n",
    "sns.scatterplot(data=df, x='Agent_Rating', y='Delivery_Time')\n",
    "plt.title(\"Agent Rating vs Delivery Time\")\n",
    "plt.show()\n"
   ]
  },
  {
   "cell_type": "markdown",
   "id": "89d91d6f",
   "metadata": {},
   "source": [
    "## 4. Streamlit Deployment"
   ]
  },
  {
   "cell_type": "markdown",
   "id": "0f6287f2",
   "metadata": {},
   "source": [
    "\n",
    "A Streamlit interface is provided in `app/streamlit_app.py` for user-friendly delivery time prediction.\n",
    "Run the app using:\n",
    "\n",
    "```bash\n",
    "streamlit run app/streamlit_app.py\n",
    "```\n"
   ]
  }
 ],
 "metadata": {},
 "nbformat": 4,
 "nbformat_minor": 5
}
